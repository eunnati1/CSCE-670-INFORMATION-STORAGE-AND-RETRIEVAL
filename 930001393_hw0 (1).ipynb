{
 "cells": [
  {
   "cell_type": "markdown",
   "metadata": {},
   "source": [
    "#### CSCE 670 :: Information Storage and Retrieval :: Texas A&M University :: Spring 2020\n",
    "\n",
    "\n",
    "# Homework 0: Starting Point\n",
    "\n",
    "### 100 points [2% of your final grade]\n",
    "\n",
    "- **Due Sunday, January 19 by 11:59pm**\n",
    "\n",
    "*Goals of this homework:* The objective of this homework is to help you prepare your development environment. You will get familiar with Python in a Jupyter notebook, and then do some beginning exercises.\n",
    "\n",
    "*Submission instructions (eCampus):* To submit your homework, rename this notebook as `UIN_hw0.ipynb`. For example, my homework submission would be something like `555001234_hw0.ipynb`. Submit this notebook via eCampus (look for the homework 0 assignment there). Your notebook should be completely self-contained, with the results visible in the notebook. We should not have to run any code from the command line, nor should we have to run your code within the notebook (though we reserve the right to do so). So please run all the cells for us, and then submit. \n",
    "\n",
    "*Late policy:* For this homework, no late submissions will be accepted. "
   ]
  },
  {
   "cell_type": "markdown",
   "metadata": {},
   "source": [
    "## Jupyter, Python, and our Expectations\n",
    "\n",
    "This homework, all subsequent homeworks, and your project will use iPython in a Jupyter notebook. iPython is just an interactive shell for programming in the Python language. A few years ago, the developers created a generic interactive shell called Jupyter that supports languages beyond just Python. This can be a bit confusing, and we'll add a bit to the confusion by referring to iPython and Jupyter interchangeably in this course.\n",
    "\n",
    "With respect to Python, we do not expect you to have any prior experience. We do, however, expect you to have proficiency in some programming language (so you've seen loops, conditionals, functions, etc.) and a willingness to experiment and learn on your own. Python is a fun language and you should be able to pick up the necessary portions as we move along; however, this may require you to spend some extra cycles consulting online documentation, referring to a Python book, or scouring over StackOverflow. \n",
    "\n",
    "A few basic Python pointers:\n",
    "* http://introtopython.org\n",
    "* https://docs.python.org/3/tutorial/\n",
    "* http://mbakker7.github.io/exploratory_computing_with_python/ [particularly the basic Python language ones]\n",
    "\n",
    "\n",
    "We expect your code to be well-documented with appropriate comments. We prefer meaningful variable names and function names. We also expect your code to be compact and sensible -- no super-long lines, nor dense unintelligible lines of code.\n",
    "\n",
    "In general, Python code is often run from standalone Python modules or files; for this class, we will often run Python from here within the Jupyter notebook.\n",
    "\n",
    "Now that you're ready, let's take a look at this Jupyter notebook. You'll notice that it is composed of cells. Some cells have text (like this one), while others contain code and comments. This cell is written in **Markdown** a simple text-to-HTML language. You can find a cheat sheet for Markdown here: https://github.com/adam-p/markdown-here/wiki/Markdown-Cheatsheet. You can toggle a cell between Markdown and code with the toggle button up there on the menu bar.\n",
    "\n",
    "The cell below contains code and can be **executed** by hitting the **Run** button on the menu bar or by hitting **shift + enter**."
   ]
  },
  {
   "cell_type": "code",
   "execution_count": 3,
   "metadata": {},
   "outputs": [
    {
     "name": "stdout",
     "output_type": "stream",
     "text": [
      "Hello world!\n"
     ]
    }
   ],
   "source": [
    "# this is a comment\n",
    "# you can execute this cell by hitting shift+enter\n",
    "# the output will appear immediately below\n",
    "#print('Hello world!')"
   ]
  },
  {
   "cell_type": "markdown",
   "metadata": {},
   "source": [
    "Since Jupyter is just an interactive shell around Python, you can define functions. For example:"
   ]
  },
  {
   "cell_type": "code",
   "execution_count": 6,
   "metadata": {},
   "outputs": [
    {
     "data": {
      "text/plain": [
       "27"
      ]
     },
     "execution_count": 6,
     "metadata": {},
     "output_type": "execute_result"
    }
   ],
   "source": [
    "def cubed(x):\n",
    "    \"\"\" Return the cube of a  \n",
    "        value \"\"\"\n",
    "    return x ** 3\n",
    "\n",
    "cubed(3)"
   ]
  },
  {
   "cell_type": "markdown",
   "metadata": {},
   "source": [
    "You can even access the filesystem with commands like `ls` or `pwd`"
   ]
  },
  {
   "cell_type": "markdown",
   "metadata": {},
   "source": [
    "## Getting Started with Numpy and matplotlib\n",
    "\n",
    "In this part, we're going to get familiar with two important libraries -- Numpy and matplotlib.\n",
    "\n",
    "### Into to Numpy\n",
    "Since Python is an interpreted language, it might not seem like the best choice for data-intensive work. Luckily, almost all of our data workflow stack is built on top of Numpy, a Python library that adds support for large, multi-dimensional arrays and matrices, along with a large library of high-level mathematical functions to operate on these arrays."
   ]
  },
  {
   "cell_type": "code",
   "execution_count": 12,
   "metadata": {},
   "outputs": [
    {
     "name": "stdout",
     "output_type": "stream",
     "text": [
      "Make a 4 row x 2 column matrix of random numbers\n",
      "[[0.09871639 0.96218091]\n",
      " [0.95581368 0.61974111]\n",
      " [0.22455112 0.92928009]\n",
      " [0.29070783 0.88521111]]\n",
      "\n",
      "Add 10 to every element\n",
      "[[10.09871639 10.96218091]\n",
      " [10.95581368 10.61974111]\n",
      " [10.22455112 10.92928009]\n",
      " [10.29070783 10.88521111]]\n",
      "\n",
      "Get the element at row 3, column 1\n",
      "10.885211113533728\n",
      "\n",
      "Get the first row\n",
      "[10.09871639 10.96218091]\n",
      "\n"
     ]
    }
   ],
   "source": [
    "import numpy as np\n",
    "\n",
    "print(\"Make a 4 row x 2 column matrix of random numbers\")\n",
    "x = np.random.random((4, 2))\n",
    "print(x)\n",
    "print()\n",
    "\n",
    "print(\"Add 10 to every element\")\n",
    "x = x + 10\n",
    "print(x)\n",
    "print()\n",
    "\n",
    "print(\"Get the element at row 3, column 1\")\n",
    "print(x[3, 1])\n",
    "print()\n",
    "\n",
    "print(\"Get the first row\")\n",
    "print(x[0, :])\n",
    "print()"
   ]
  },
  {
   "cell_type": "markdown",
   "metadata": {},
   "source": [
    "Now, it's your turn. Find the **maximum**, **minimum**, and **mean** of the array `x` you just created. This does not require writing a loop. In the code cell below, type `x.m`+`<TAB>`, to find built-in operations that may help you out."
   ]
  },
  {
   "cell_type": "code",
   "execution_count": 23,
   "metadata": {},
   "outputs": [
    {
     "name": "stdout",
     "output_type": "stream",
     "text": [
      "Maximum:\n",
      "Max element from Numpy Array :  10.962180912747161\n",
      "Minimum:\n",
      "Min element from Numpy Array :  10.098716390948928\n",
      "Mean:\n",
      "Mean element from Numpy Array :  10.620775281398181\n"
     ]
    }
   ],
   "source": [
    "import numpy\n",
    "print(\"Maximum:\")\n",
    "# please find and print the maximum of the array\n",
    "# your code here\n",
    "maxElement = numpy.amax(x)\n",
    "print('Max element from Numpy Array : ', maxElement)\n",
    "\n",
    "print(\"Minimum:\")\n",
    "# please find and print the minimum of the array\n",
    "# your code here\n",
    "minElement = numpy.amin(x)\n",
    "print('Min element from Numpy Array : ', minElement)\n",
    "\n",
    "print(\"Mean:\")\n",
    "# please find and print the mean of the array\n",
    "# your code here\n",
    "meanElement = numpy.mean(x)\n",
    "print('Mean element from Numpy Array : ', meanElement)\n"
   ]
  },
  {
   "cell_type": "markdown",
   "metadata": {},
   "source": [
    "That wasy easy! Now, let's see if you can generate 500 numbers from a uniform distribution between 0 and 50,000, inclusive. That is each random number could be 0, 1, 2, ..., 50,000 with equal chance. Please show us the **maximum**, **minimum**, and **mean** of these 500 random numbers. Hint: you can take a look at `np.random`. "
   ]
  },
  {
   "cell_type": "code",
   "execution_count": 21,
   "metadata": {},
   "outputs": [
    {
     "name": "stdout",
     "output_type": "stream",
     "text": [
      "Randomly Generated Code\n",
      "Random number between 0 and 50,000 inclusive :  45581\n",
      "Random Numbers are : [37974, 27851, 47001, 39364, 31050, 48071, 48984, 30795, 23482, 46835, 12267, 44376, 3081, 11994, 8758, 42760, 29729, 25705, 47123, 16905, 34813, 7224, 22039, 13868, 37742, 30937, 9407, 28330, 14770, 21743, 38580, 5630, 42368, 34386, 2853, 28479, 28089, 10410, 5017, 26674, 10270, 39267, 28640, 38536, 34500, 33058, 31987, 34511, 17531, 21681, 49759, 42336, 39057, 3449, 33895, 49156, 48072, 4098, 5858, 29664, 47839, 35283, 5613, 12319, 29164, 45036, 4014, 33772, 33738, 46285, 45458, 43935, 48979, 14840, 28551, 18231, 33343, 16687, 44187, 25194, 42285, 34502, 41511, 16928, 42950, 10281, 7305, 22632, 17813, 24919, 11588, 38516, 12612, 40171, 4346, 26194, 28358, 4187, 2174, 21953, 35553, 38402, 23317, 39142, 22416, 38936, 42372, 9892, 11469, 40781, 32491, 18816, 3214, 45174, 45108, 14494, 13524, 5348, 47462, 17452, 21282, 22170, 48509, 19710, 20497, 18410, 25253, 8494, 48312, 32703, 15465, 30274, 3950, 9235, 34655, 31567, 41019, 24040, 10007, 47219, 32482, 23742, 3785, 45533, 37123, 21092, 28991, 44193, 1738, 4217, 13181, 20433, 36094, 13545, 22154, 31695, 40235, 24407, 14211, 21044, 1047, 15885, 5391, 15571, 920, 14036, 39923, 15993, 39170, 32570, 15116, 37881, 44332, 49062, 4959, 20243, 19394, 8759, 21139, 603, 16698, 42765, 4289, 37955, 4644, 23005, 38154, 41577, 8554, 40048, 28235, 11497, 3708, 18677, 29335, 3238, 31254, 271, 24240, 44191, 17247, 30066, 36282, 22602, 26551, 11001, 47769, 8680, 42318, 28860, 39140, 31575, 7603, 26647, 19726, 38590, 45382, 46152, 35744, 32085, 30669, 44289, 49346, 14589, 24180, 36627, 42451, 20824, 27497, 39733, 8462, 5996, 18036, 20924, 28512, 20961, 45092, 43023, 20956, 19933, 20996, 13071, 2737, 17398, 10000, 26516, 37689, 26436, 18405, 1753, 35728, 39528, 16909, 32413, 7349, 4099, 35424, 46332, 14644, 10171, 46626, 6568, 39382, 39356, 43598, 28650, 32176, 31234, 28263, 36532, 37062, 27122, 39403, 41212, 24967, 24476, 18897, 31575, 8772, 2313, 35250, 33218, 33314, 45493, 15653, 31792, 25146, 41954, 8600, 15211, 24262, 20362, 20274, 27649, 47347, 27165, 44740, 12871, 47953, 17682, 22497, 23534, 5627, 8775, 47214, 13103, 16675, 44381, 17324, 32157, 45050, 21909, 39485, 33728, 45732, 18625, 5733, 41069, 16426, 30892, 11521, 887, 1816, 6922, 31813, 4281, 44097, 7594, 10304, 35015, 4248, 38566, 33293, 23193, 5232, 16982, 24124, 42373, 19731, 39248, 12612, 19815, 34732, 14715, 35769, 25503, 36807, 37007, 7383, 15016, 36188, 42572, 16716, 27158, 46420, 2816, 27845, 19621, 634, 611, 37464, 21904, 5416, 4910, 2921, 20978, 990, 8260, 48893, 15204, 18668, 36254, 28699, 39467, 38362, 30751, 4704, 48914, 37034, 19301, 33136, 29150, 14492, 7363, 48154, 42045, 28625, 29769, 5695, 22069, 44442, 29948, 35885, 39261, 18112, 20237, 3727, 45153, 47815, 43388, 45846, 10509, 45764, 27069, 7749, 1972, 43736, 40960, 28839, 30668, 22119, 2250, 36190, 28283, 44374, 30012, 3999, 48653, 4707, 23032, 15420, 34797, 35698, 47819, 17973, 23765, 42537, 19704, 16702, 17035, 20490, 23713, 2454, 48045, 36077, 28106, 6902, 14629, 44335, 25606, 38830, 20433, 19400, 21936, 8428, 8392, 5804, 34034, 18406, 2142, 22412, 23194, 3487, 27563, 6427, 1829, 36880, 20714, 25811, 645, 15283, 1194, 33551, 41101, 17389, 29043, 20268, 26468, 27155, 19567, 1613, 2571, 11502, 3738, 27320, 48367, 10941, 24332, 42198, 22293, 35283, 32094, 31236, 38733, 40726, 11043, 39906, 17854, 15946, 12512, 11957, 49458, 22828, 43500, 9332, 15103, 37408, 6698, 36465, 14947]\n",
      "Max element from Numpy Array :  49970\n",
      "Minimum:\n",
      "Min element from Numpy Array :  30\n",
      "Mean:\n",
      "Mean element from Numpy Array :  26530.048\n"
     ]
    }
   ],
   "source": [
    "# your code here\n",
    "import random\n",
    "import numpy\n",
    "\n",
    "print(\"Randomly Generated Code\")\n",
    "print(\"Random number between 0 and 50,000 inclusive : \", random.randrange(50001))\n",
    "\n",
    "def randomValues(first, last, total):\n",
    "    result= []\n",
    "    \n",
    "    for i in range(total):\n",
    "        result.append(random.randint(first,last+1))\n",
    "        \n",
    "    return result\n",
    "\n",
    "first =0\n",
    "last = 50000\n",
    "total = 500\n",
    "print(\"Random Numbers are :\" , randomValues(first,last,total))\n",
    "\n",
    "maxElement = numpy.amax(randomValues(first,last,total))\n",
    "print('Max element from Numpy Array : ', maxElement)\n",
    "\n",
    "print(\"Minimum:\")\n",
    "minElement = numpy.amin(randomValues(first,last,total))\n",
    "print('Min element from Numpy Array : ', minElement)\n",
    "\n",
    "print(\"Mean:\")\n",
    "meanElement = numpy.mean(randomValues(first,last,total))\n",
    "print('Mean element from Numpy Array : ', meanElement)\n",
    "\n"
   ]
  },
  {
   "cell_type": "raw",
   "metadata": {
    "collapsed": true
   },
   "source": [
    "# your code here\n",
    "import numpy as np\n",
    "\n",
    "print(\"\")"
   ]
  },
  {
   "cell_type": "markdown",
   "metadata": {},
   "source": [
    "### Intro to matplotlib\n",
    "The most widespread Python plotting library is matplotlib. With it, you can create graphs, charts, basic maps, and other data visualizations. Later in the semester, we'll sometimes use `seaborn`, a library built on top of matplotlib that provides even more beautiful charts.\n",
    "\n",
    "Below, we provide some simple x and y coordinates that are then plotted. You should update the plot to include:\n",
    "* a label for the x-axis (call it 'widgets')\n",
    "* a label for the y-axis (call it 'price')\n",
    "* a label for the x, y1 curve (call it 'Alice')\n",
    "* a label for the x, y2 curve (call it 'Bob')\n",
    "* a legend in the lower right corner"
   ]
  },
  {
   "cell_type": "code",
   "execution_count": 20,
   "metadata": {},
   "outputs": [
    {
     "data": {
      "text/plain": [
       "<matplotlib.legend.Legend at 0x163be716508>"
      ]
     },
     "execution_count": 20,
     "metadata": {},
     "output_type": "execute_result"
    },
    {
     "data": {
      "image/png": "[encoded data removed]",
      "text/plain": [
       "<Figure size 432x288 with 1 Axes>"
      ]
     },
     "metadata": {
      "needs_background": "light"
     },
     "output_type": "display_data"
    }
   ],
   "source": [
    "# this line prepares IPython for working with matplotlib\n",
    "%matplotlib inline  \n",
    "\n",
    "import matplotlib.pyplot as plt  \n",
    "\n",
    "x = [0, 1, 2, 3, 4]  \n",
    "y1 = [10, 12, 10, 10, 12]\n",
    "y2 = [8, 9, 9, 11, 12]\n",
    "#plt.plot(x, y1)\n",
    "#plt.plot(x, y2) \n",
    "plt.xlabel(\"widgets\")\n",
    "plt.ylabel(\"price\")\n",
    "plt.plot(x, y1, \"-b\", label=\"Alice\")\n",
    "plt.plot(x, y2, \"-r\", label=\"Bob\")\n",
    "plt.legend(loc=\"lower right\")\n",
    "# your code here (plus you may need to modify the previous two lines)"
   ]
  },
  {
   "cell_type": "markdown",
   "metadata": {},
   "source": [
    "## Getting started with File Input & Output\n",
    "\n",
    "Python can easily handle reading and writing files. As far as Python is concerned, a file is just a string (often very large!) stored on your local file system, that you can read or write, gradually or all together.\n",
    "\n",
    "### Writing Files\n",
    "\n",
    "*open()* returns a file object, and is most commonly used with two arguments: *open(filename, mode)*."
   ]
  },
  {
   "cell_type": "code",
   "execution_count": 46,
   "metadata": {},
   "outputs": [],
   "source": [
    "outFile = open('sample.txt', 'w')\n",
    "outFile.write('The first line\\nThe second line\\nThe third line\\n')\n",
    "outFile.close()"
   ]
  },
  {
   "cell_type": "markdown",
   "metadata": {},
   "source": [
    "The first line creates a file object, which links Python to your computer’s file system. The first parameter in the file constructor gives the file name, *sample.txt*. The second parameter indicates how you use the file. The 'w' is short for **w**rite. If the file already existed, the old contents are destroyed.\n",
    "\n",
    "And 'a' opens the file for **a**ppending; any data written to the file is automatically added to the end. 'r+' opens the file for both reading and writing.\n",
    "\n",
    "The *close* line is essential for Python to make sure everything is really written, and to relinquish control of the file."
   ]
  },
  {
   "cell_type": "markdown",
   "metadata": {},
   "source": [
    "### Methods of File Objects\n",
    "\n",
    "To read a file’s contents, call *f.read(size)*, which reads some quantity of data and returns it as a string. *size* is an optional numeric argument. When *size* is omitted or negative, the entire contents of the file will be read and returned."
   ]
  },
  {
   "cell_type": "code",
   "execution_count": 47,
   "metadata": {},
   "outputs": [
    {
     "data": {
      "text/plain": [
       "'The first line\\nThe second line\\nThe third line\\n'"
      ]
     },
     "execution_count": 47,
     "metadata": {},
     "output_type": "execute_result"
    }
   ],
   "source": [
    "outFile = open('sample.txt', 'r')\n",
    "outFile.read()"
   ]
  },
  {
   "cell_type": "markdown",
   "metadata": {},
   "source": [
    "For reading lines from a file, you can loop over the file object. This is memory efficient, fast, and leads to simple code:"
   ]
  },
  {
   "cell_type": "code",
   "execution_count": 48,
   "metadata": {},
   "outputs": [
    {
     "name": "stdout",
     "output_type": "stream",
     "text": [
      "The first line\n",
      "\n",
      "The second line\n",
      "\n",
      "The third line\n",
      "\n"
     ]
    }
   ],
   "source": [
    "outFile = open('sample.txt', 'r')\n",
    "for line in outFile:\n",
    "    print(line)"
   ]
  },
  {
   "cell_type": "markdown",
   "metadata": {},
   "source": [
    "It is good practice to use the *with* keyword when dealing with file objects. This has the advantage that the file is properly closed after its suite finishes, even if an exception is raised on the way. It is also much shorter than writing equivalent try-finally blocks:"
   ]
  },
  {
   "cell_type": "code",
   "execution_count": 49,
   "metadata": {},
   "outputs": [
    {
     "data": {
      "text/plain": [
       "'The first line\\nThe second line\\nThe third line\\n'"
      ]
     },
     "execution_count": 49,
     "metadata": {},
     "output_type": "execute_result"
    }
   ],
   "source": [
    "with open('sample.txt', 'r') as f:\n",
    "    outFile = f.read()\n",
    "outFile"
   ]
  },
  {
   "cell_type": "code",
   "execution_count": 50,
   "metadata": {},
   "outputs": [
    {
     "data": {
      "text/plain": [
       "True"
      ]
     },
     "execution_count": 50,
     "metadata": {},
     "output_type": "execute_result"
    }
   ],
   "source": [
    "f.closed"
   ]
  },
  {
   "cell_type": "code",
   "execution_count": 52,
   "metadata": {},
   "outputs": [],
   "source": [
    "with open('sample.txt', 'a') as f:\n",
    "    f.write('The fourth line\\n')"
   ]
  },
  {
   "cell_type": "code",
   "execution_count": 55,
   "metadata": {},
   "outputs": [
    {
     "name": "stdout",
     "output_type": "stream",
     "text": [
      "['The first line\\n', 'The second line\\n', 'The third line\\n', 'The fourth line\\n', 'The fourth line\\n']\n"
     ]
    }
   ],
   "source": [
    "with open('sample.txt', 'r') as f:\n",
    "    print(f.readlines())  # readlines – reads the entire file and returns it as a list of strings"
   ]
  },
  {
   "cell_type": "markdown",
   "metadata": {},
   "source": [
    "### Open a Remote File via URL\n",
    "\n",
    "Python can easily access the content of a webpage via its URL, and print out locally line-by-line without saving a local copy of the file. "
   ]
  },
  {
   "cell_type": "code",
   "execution_count": 19,
   "metadata": {},
   "outputs": [
    {
     "name": "stdout",
     "output_type": "stream",
     "text": [
      "b'<html><head> <TITLE>CSCE 670 :: Information Storage and Retrieval :: Spring\\n2020</TITLE> </head>\\n\\n<body bgcolor=white text=black link=blue vlink=blue alink=blue>\\n\\n\\n<h1> CSCE 670 :: Information Storage and Retrieval :: Spring 2020 </h1> \\n\\n<p><a href=\"index.html\">Back to main page</a> \\n\\n<H3><A NAME = \"project-overview\">Project Overview</a></H3> \\n\\n<p>For the project, you will work in teams of three or four on a problem of \\nyour choosing that is interesting, significant, and relevant to this course. You have great latitude in what you work on, so make it count! Your main requirements are:\\n\\n<ul>\\n<li> Your project code must live on github. We prefer it to be public. However, you can claim a private github account (with a .edu email address).\\n<li> Your project must use some non-trivial data that your team collects. You may choose to sample social media data (e.g., using an API), download an existing collection, write a simple crawler to collect pre-organized data, or write your own custom web crawler.\\n<li> Your project must implement or build upon at least one core algorithm from a recent research paper published in a venue like SIGIR, WSDM, WWW, etc.  \\n</ul>\\n\\n<p>We will hold a project showcase during the final week of class. \\n\\n\\n<hr>\\n<h4>Grading Criteria</h4> \\n<p>The course project counts for 25% of your final grade. You will receive an overall rating based on the performance of your entire team, as well as an individual rating based on the feedback of your teammate as well as contributions to the project github repo. Typically, the individual rating can bump or depress your project grade by some small delta (say moving a group rating of 85/100 plus or minus 5 points). Rarely, a project score may be depressed significantly if a group member makes only a superficial contribution to a project.\\n\\nYour project will be graded based on these key milestones:\\n \\n<ul>\\n<li> [10%] Project proposal: Due March 22 (Sunday) by 11:59pm\\n<li> [50%] Project showcase: in-class April 27 and 28\\n<li> [40%] Project website: Due April 30 (Thursday) by 11:59pm\\n</ul>\\n\\nRecall that your late days are applicable to homework assignments only. All project milestones are due on their respective due date. No late project milestones will be accepted.\\n\\n<hr>\\n<h4>Project proposal</h4> \\n<p>Each group should post a 1-2 page project proposal in PDF to the Piazza course discussion forum. Be sure to start a new thread for your proposal and name the thread \"Proposal: [project_name]\", where [project_name] is a brief, descriptive name of your project. Your name should be something memorable! \\n<br/>\\n\\n\\nA proposal should address the following issues:\\n\\n<ul>\\n<li>What is your research question? Clearly define the research problem/question.\\n<li>Why is this an interesting question to ask and why would we care about the answer to this question or a solution to the problem.\\n<li>Has any existing research work tried to answer the same or a similar question, and if so, what is still unknown?\\n<li>How do you plan to work out the answer to the question. (At the proposal stage, you are only expected to have a sketch of your methods.)\\n<li>How would you evaluate your solution. That is, how do you plan to demonstrate that your solution/answer is good or is reasonable.\\n<li>A rough timeline to show when you expect to finish what. List a couple of milestones.\\n</ul>\\n\\n\\n\\n\\n\\n\\n\\n\\n\\n<hr>\\n<h4>Project showcase</h4> \\nWe will host a project showcase during our last week of class. \\n\\n<p>On Monday, April 27 and Tuesday, April 28 we will hold an in-class POSTER SESSION. \\n\\n<p>All teams must create a poster. Your poster should be MAX 30 inches horizontal by 40 inches vertical. Your poster should be structured somewhat like your website -- that is, you should provide a motivation, your approach (technical details), what you learned, what is next. You can print your poster in the department. Please use <a href=\"https://engineering.tamu.edu/media/1381416/PlotterPrintingForm2014Editable.pdf\">this printer form</a> if you want me to pay for your poster. We will have posterboards and easels set up in the classroom.\\n\\n<p>Be sure to highlight the key technical innovations, findings, takeaways. Impress us! This is your chance.\\n\\n\\n<hr>\\n<h4>Project website (post link to Piazza)</h4>\\nYour team should create a public website that shows off your project. You must use a well-known hosting service -- e.g., Google Sites, Github Pages, Wix (ugh, not my favorite) -- so that we have some assurances your site will not disappear. Your site should essentially be a web-based version of a project report. So, we would expect to see the big questions and takeaways of your project.\\n\\n<ul>\\n<li>Introduction / problem background / motivation -- what is the research question? Why is it important?\\n<li>Related work -- what existing work is there? Include links. What is the difference with what you propose?\\n<li>Proposed solution / methods used -- give us the technical details about what you have done.\\n<li>Evaluation and analysis of results -- what did you discover? \\n<li>Conclusions / discussion -- What was challenging about the project? What would you like to do next? What are the open issues?\\n</ul>\\n\\nYour website should also include: \\n<ul>\\n<li>Link to your github repository.\\n<li>The data you used (raw or possibly a link to a cloud storage provider).\\n<li>Link to your poster (PDF or similar).\\n</ul>\\n\\n\\n<P> <BR> <BR>\\n</body>\\n</html>'\n"
     ]
    }
   ],
   "source": [
    "import urllib  # the lib that handles the url stuff\n",
    "from urllib.request import urlopen\n",
    "url = \"http://courses.cse.tamu.edu/caverlee/csce670/project.html\"\n",
    "\n",
    "# your code here: open the url. Hint: take a look at urllib2.urlopen\n",
    "# your code here: now print out each line\n",
    "\n",
    "content = urlopen(url).read()\n",
    "#for line in content:\n",
    "print(content)"
   ]
  },
  {
   "cell_type": "markdown",
   "metadata": {},
   "source": [
    "## Counting Word Frequency\n",
    "\n",
    "One of the most fundamental tasks in information retrieval is to count the frequency of each word in a document.\n",
    "\n",
    "In the following example, we start with a string and split it into a list. We then create an (initially empty) list called *wordfreq*, go through each word in the *wordlist*, and count the number of times that word appears in the whole list. We then add each word’s count to our wordfreq list. Using the *zip* operation, we are able to match the first word of the word list with the first number in the frequency list, the second word and second frequency, and so on. We end up with a list of word and frequency pairs. The *str* function converts any object to a string so that it can be printed."
   ]
  },
  {
   "cell_type": "code",
   "execution_count": 18,
   "metadata": {},
   "outputs": [
    {
     "name": "stdout",
     "output_type": "stream",
     "text": [
      "String\n",
      "it was the best of times it was the worst of times it was the age of wisdom it was the age of foolishness\n",
      "\n",
      "List\n",
      "['it', 'was', 'the', 'best', 'of', 'times', 'it', 'was', 'the', 'worst', 'of', 'times', 'it', 'was', 'the', 'age', 'of', 'wisdom', 'it', 'was', 'the', 'age', 'of', 'foolishness']\n",
      "\n",
      "Frequencies\n",
      "[4, 4, 4, 1, 4, 2, 4, 4, 4, 1, 4, 2, 4, 4, 4, 2, 4, 1, 4, 4, 4, 2, 4, 1]\n",
      "\n",
      "Pairs\n",
      "{'it': 4, 'was': 4, 'the': 4, 'best': 1, 'of': 4, 'times': 2, 'worst': 1, 'age': 2, 'wisdom': 1, 'foolishness': 1}\n"
     ]
    }
   ],
   "source": [
    "wordstring = 'it was the best of times it was the worst of times '\n",
    "wordstring += 'it was the age of wisdom it was the age of foolishness'\n",
    "\n",
    "wordlist = wordstring.split()\n",
    "\n",
    "wordfreq = []\n",
    "for w in wordlist:\n",
    "    wordfreq.append(wordlist.count(w))\n",
    "\n",
    "print(\"String\\n\" + wordstring +\"\\n\")\n",
    "print(\"List\\n\" + str(wordlist) + \"\\n\")\n",
    "print(\"Frequencies\\n\" + str(wordfreq) + \"\\n\")\n",
    "print(\"Pairs\\n\" + str(dict(zip(wordlist, wordfreq))))"
   ]
  },
  {
   "cell_type": "markdown",
   "metadata": {},
   "source": [
    "Now, your job is to open up the url we mentioned a few cells above. Then output the word-frequency pairs in that url, sorted in order of descending frequency. In the case of ours Dickens example here, the output would look something like: [('of', 4), ('it', 4), ('the', 4), ('was', 4), ('age', 2), ('times', 2), ('foolishness', 1), ('worst', 1), ('wisdom', 1), ('best', 1)].\n",
    "\n",
    "Your job is to output a the word-frequency pairs for the url."
   ]
  },
  {
   "cell_type": "code",
   "execution_count": 17,
   "metadata": {},
   "outputs": [
    {
     "name": "stdout",
     "output_type": "stream",
     "text": [
      "{'to': 28, 'a': 28, 'the': 25, 'your': 24, 'you': 16, 'of': 14, 'project': 14, 'is': 13, 'and': 11, 'Your': 11, 'or': 10, 'will': 9, 'what': 9, 'should': 9, 'be': 8, '--': 8, 'Project': 7, 'that': 7, 'work': 6, 'in': 6, 'on': 6, 'an': 6, 'You': 5, 'have': 5, 'must': 5, 'research': 5, 'proposal': 5, 'What': 5, '::': 4, 'this': 4, 'We': 4, 'rating': 4, 'as': 4, 'by': 4, 'project.': 4, 'April': 4, 'are': 4, 'would': 4, 'we': 4, 'poster': 4, 'website': 4, '/': 4, 'it': 3, 'can': 3, 'github': 3, 'use': 3, 'some': 3, 'data': 3, 'existing': 3, 'like': 3, 'showcase': 3, 'for': 3, 'based': 3, 'group': 3, 'if': 3, 'name': 3, 'about': 3, 'answer': 3, 'do': 3, 'CSCE': 2, '670': 2, 'Information': 2, 'Storage': 2, 'Retrieval': 2, 'Spring': 2, '2020': 2, 'main': 2, 'page': 2, 'teams': 2, 'problem': 2, 'so': 2, 'team': 2, 'may': 2, 'write': 2, 'hold': 2, 'during': 2, 'final': 2, 'week': 2, 'class.': 2, 'The': 2, 'course': 2, 'well': 2, 'individual': 2, 'only': 2, 'key': 2, 'Due': 2, '11:59pm': 2, 'in-class': 2, '27': 2, '28': 2, '30': 2, 'late': 2, 'All': 2, 'milestones': 2, 'due': 2, 'discussion': 2, 'Be': 2, 'sure': 2, 'thread': 2, 'A': 2, 'question?': 2, 'Why': 2, 'question': 2, 'solution': 2, 'How': 2, 'plan': 2, 'is,': 2, 'expect': 2, 'create': 2, 'poster.': 2, 'inches': 2, 'technical': 2, 'link': 2, 'not': 2, 'site': 2, 'used': 2, 'Link': 2, 'Back': 1, 'Overview': 1, 'For': 1, 'project,': 1, 'three': 1, 'four': 1, 'choosing': 1, 'interesting,': 1, 'significant,': 1, 'relevant': 1, 'course.': 1, 'great': 1, 'latitude': 1, 'on,': 1, 'make': 1, 'count!': 1, 'requirements': 1, 'are:': 1, 'code': 1, 'live': 1, 'github.': 1, 'prefer': 1, 'public.': 1, 'However,': 1, 'claim': 1, 'private': 1, 'account': 1, '(with': 1, '.edu': 1, 'email': 1, 'address).': 1, 'non-trivial': 1, 'collects.': 1, 'choose': 1, 'sample': 1, 'social': 1, 'media': 1, '(e.g.,': 1, 'using': 1, 'API),': 1, 'download': 1, 'collection,': 1, 'simple': 1, 'crawler': 1, 'collect': 1, 'pre-organized': 1, 'data,': 1, 'own': 1, 'custom': 1, 'web': 1, 'crawler.': 1, 'implement': 1, 'build': 1, 'upon': 1, 'at': 1, 'least': 1, 'one': 1, 'core': 1, 'algorithm': 1, 'from': 1, 'recent': 1, 'paper': 1, 'published': 1, 'venue': 1, 'SIGIR,': 1, 'WSDM,': 1, 'WWW,': 1, 'etc.': 1, 'Grading': 1, 'Criteria': 1, 'counts': 1, '25%': 1, 'grade.': 1, 'receive': 1, 'overall': 1, 'performance': 1, 'entire': 1, 'team,': 1, 'feedback': 1, 'teammate': 1, 'contributions': 1, 'repo.': 1, 'Typically,': 1, 'bump': 1, 'depress': 1, 'grade': 1, 'small': 1, 'delta': 1, '(say': 1, 'moving': 1, '85/100': 1, 'plus': 1, 'minus': 1, '5': 1, 'points).': 1, 'Rarely,': 1, 'score': 1, 'depressed': 1, 'significantly': 1, 'member': 1, 'makes': 1, 'superficial': 1, 'contribution': 1, 'graded': 1, 'these': 1, 'milestones:': 1, '[10%]': 1, 'proposal:': 1, 'March': 1, '22': 1, '(Sunday)': 1, '[50%]': 1, 'showcase:': 1, '[40%]': 1, 'website:': 1, '(Thursday)': 1, 'Recall': 1, 'days': 1, 'applicable': 1, 'homework': 1, 'assignments': 1, 'only.': 1, 'their': 1, 'respective': 1, 'date.': 1, 'No': 1, 'accepted.': 1, 'Each': 1, 'post': 1, '1-2': 1, 'PDF': 1, 'Piazza': 1, 'forum.': 1, 'start': 1, 'new': 1, '\"Proposal:': 1, '[project_name]\",': 1, 'where': 1, '[project_name]': 1, 'brief,': 1, 'descriptive': 1, 'something': 1, 'memorable!': 1, 'address': 1, 'following': 1, 'issues:': 1, 'Clearly': 1, 'define': 1, 'problem/question.': 1, 'interesting': 1, 'ask': 1, 'why': 1, 'care': 1, 'problem.': 1, 'Has': 1, 'any': 1, 'tried': 1, 'same': 1, 'similar': 1, 'question,': 1, 'so,': 1, 'still': 1, 'unknown?': 1, 'out': 1, 'question.': 1, '(At': 1, 'stage,': 1, 'expected': 1, 'sketch': 1, 'methods.)': 1, 'evaluate': 1, 'solution.': 1, 'That': 1, 'how': 1, 'demonstrate': 1, 'solution/answer': 1, 'good': 1, 'reasonable.': 1, 'rough': 1, 'timeline': 1, 'show': 1, 'when': 1, 'finish': 1, 'what.': 1, 'List': 1, 'couple': 1, 'milestones.': 1, 'host': 1, 'our': 1, 'last': 1, 'On': 1, 'Monday,': 1, 'Tuesday,': 1, 'POSTER': 1, 'SESSION.': 1, 'MAX': 1, 'horizontal': 1, '40': 1, 'vertical.': 1, 'structured': 1, 'somewhat': 1, 'provide': 1, 'motivation,': 1, 'approach': 1, '(technical': 1, 'details),': 1, 'learned,': 1, 'next.': 1, 'print': 1, 'department.': 1, 'Please': 1, 'printer': 1, 'form': 1, 'want': 1, 'me': 1, 'pay': 1, 'posterboards': 1, 'easels': 1, 'set': 1, 'up': 1, 'classroom.': 1, 'highlight': 1, 'innovations,': 1, 'findings,': 1, 'takeaways.': 1, 'Impress': 1, 'us!': 1, 'This': 1, 'chance.': 1, '(post': 1, 'Piazza)': 1, 'public': 1, 'shows': 1, 'off': 1, 'well-known': 1, 'hosting': 1, 'service': 1, 'e.g.,': 1, 'Google': 1, 'Sites,': 1, 'Github': 1, 'Pages,': 1, 'Wix': 1, '(ugh,': 1, 'my': 1, 'favorite)': 1, 'assurances': 1, 'disappear.': 1, 'essentially': 1, 'web-based': 1, 'version': 1, 'report.': 1, 'So,': 1, 'see': 1, 'big': 1, 'questions': 1, 'takeaways': 1, 'Introduction': 1, 'background': 1, 'motivation': 1, 'important?': 1, 'Related': 1, 'there?': 1, 'Include': 1, 'links.': 1, 'difference': 1, 'with': 1, 'propose?': 1, 'Proposed': 1, 'methods': 1, 'give': 1, 'us': 1, 'details': 1, 'done.': 1, 'Evaluation': 1, 'analysis': 1, 'results': 1, 'did': 1, 'discover?': 1, 'Conclusions': 1, 'was': 1, 'challenging': 1, 'project?': 1, 'next?': 1, 'open': 1, 'issues?': 1, 'also': 1, 'include:': 1, 'repository.': 1, '(raw': 1, 'possibly': 1, 'cloud': 1, 'storage': 1, 'provider).': 1, '(PDF': 1, 'similar).': 1}\n"
     ]
    }
   ],
   "source": [
    "import urllib  # the lib that handles the url stuff\n",
    "import operator\n",
    "from bs4 import BeautifulSoup\n",
    "from urllib.request import urlopen\n",
    "url = \"http://courses.cse.tamu.edu/caverlee/csce670/project.html\"\n",
    "\n",
    "# your code here: open the url. Hint: take a look at urllib2.urlopen\n",
    "# your code here: now print out each line\n",
    "\n",
    "content = urlopen(url).read()\n",
    "#print(content)\n",
    "soup = BeautifulSoup(content, 'html.parser')\n",
    "#print(soup)\n",
    "text = soup.find_all(text=True)\n",
    "\n",
    "output = ''\n",
    "notrequired = [\n",
    "\t'[document]',\n",
    "\t'noscript',\n",
    "\t'header',\n",
    "\t'html',\n",
    "\t'meta',\n",
    "\t'head', \n",
    "\t'input',\n",
    "\t'script',\n",
    "\t]\n",
    "\n",
    "for t in text:\n",
    "\tif t.parent.name not in notrequired:\n",
    "\t\toutput += '{} '.format(t)\n",
    "\n",
    "#print(output)\n",
    "\n",
    "splitedcontent= output.split()\n",
    "\n",
    "freq = []\n",
    "\n",
    "for word in splitedcontent:\n",
    "    freq.append(splitedcontent.count(word))\n",
    "\n",
    "#print(splitedcontent)    \n",
    "originaldict = dict(zip(splitedcontent,freq))\n",
    "#print(originaldict)\n",
    "sortedarr = dict( sorted(originaldict.items(), key=operator.itemgetter(1),reverse=True))\n",
    "print(sortedarr)"
   ]
  },
  {
   "cell_type": "code",
   "execution_count": null,
   "metadata": {},
   "outputs": [],
   "source": []
  }
 ],
 "metadata": {
  "anaconda-cloud": {},
  "kernelspec": {
   "display_name": "Python 3",
   "language": "python",
   "name": "python3"
  },
  "language_info": {
   "codemirror_mode": {
    "name": "ipython",
    "version": 3
   },
   "file_extension": ".py",
   "mimetype": "text/x-python",
   "name": "python",
   "nbconvert_exporter": "python",
   "pygments_lexer": "ipython3",
   "version": "3.7.4"
  }
 },
 "nbformat": 4,
 "nbformat_minor": 2
}
